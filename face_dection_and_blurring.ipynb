{
 "cells": [
  {
   "attachments": {},
   "cell_type": "markdown",
   "metadata": {},
   "source": [
    "<h1>Face Detection and Privacy</h1>\n",
    "This program focuses on creating an algorithm for detecting human faces under varying conditions, extracting the faces, and applying blurring to hide the eyes"
   ]
  },
  {
   "cell_type": "code",
   "execution_count": 14,
   "metadata": {},
   "outputs": [
    {
     "name": "stdout",
     "output_type": "stream",
     "text": [
      "Image saved to boxed_musk_full_body.jpg\n",
      "Image saved to boxed_musk_other_object.jpg\n",
      "Image saved to boxed_musk_with_other.jpg\n",
      "Image saved to boxed_musk_distant.jpg\n"
     ]
    }
   ],
   "source": [
    "import cv2\n",
    "import matplotlib.pyplot as plt\n",
    "\n",
    "def load_image(image_path):\n",
    "    return cv2.imread(image_path)\n",
    "\n",
    "def convert_to_grayscale(image):\n",
    "    return cv2.cvtColor(image, cv2.COLOR_BGR2GRAY)\n",
    "\n",
    "def detect_faces(gray_image):\n",
    "    face_cascade = cv2.CascadeClassifier('haarcascade_frontalface_default.xml')\n",
    "    return face_cascade.detectMultiScale(gray_image, scaleFactor=1.1, minNeighbors=5, minSize=(30, 30), flags=cv2.CASCADE_SCALE_IMAGE)\n",
    "\n",
    "def process_image(image_path):\n",
    "    image = load_image(image_path)\n",
    "    gray_image = convert_to_grayscale(image)\n",
    "    faces = detect_faces(gray_image)\n",
    "    return image, faces\n",
    "\n",
    "def draw_rectangles(image, faces, color=(0, 0, 255)):\n",
    "    for (x, y, w, h) in faces:\n",
    "        cv2.rectangle(image, (x, y), (x + w, y + h), color, 2)\n",
    "    return image\n",
    "\n",
    "def save_image_with_boxes(image, output_path):\n",
    "    cv2.imwrite(output_path, image)\n",
    "\n",
    "image_paths = ['musk_full_body.jpg', 'musk_other_object.jpg', 'musk_with_other.jpg', 'musk_distant.jpg']\n",
    "for image_path in image_paths:\n",
    "    image, faces = process_image(image_path)\n",
    "    image_with_boxes = draw_rectangles(image, faces)\n",
    "    output_path = \"boxed_\" + image_path\n",
    "    save_image_with_boxes(image_with_boxes, output_path)\n",
    "    print(f\"Image saved to {output_path}\")\n",
    "\n"
   ]
  },
  {
   "attachments": {},
   "cell_type": "markdown",
   "metadata": {},
   "source": [
    "Crop only the faces identified with the red box and save to local disk"
   ]
  },
  {
   "cell_type": "code",
   "execution_count": 15,
   "metadata": {},
   "outputs": [
    {
     "name": "stdout",
     "output_type": "stream",
     "text": [
      "Cropped face saved to musk_full_body_faces\\face_0.jpg\n",
      "Cropped face saved to musk_other_object_faces\\face_0.jpg\n",
      "Cropped face saved to musk_with_other_faces\\face_0.jpg\n",
      "Cropped face saved to musk_with_other_faces\\face_1.jpg\n",
      "Cropped face saved to musk_with_other_faces\\face_2.jpg\n",
      "Cropped face saved to musk_with_other_faces\\face_3.jpg\n",
      "Cropped face saved to musk_distant_faces\\face_0.jpg\n"
     ]
    }
   ],
   "source": [
    "import cv2\n",
    "import os\n",
    "\n",
    "def load_image(image_path):\n",
    "    return cv2.imread(image_path)\n",
    "\n",
    "def convert_to_grayscale(image):\n",
    "    return cv2.cvtColor(image, cv2.COLOR_BGR2GRAY)\n",
    "\n",
    "def detect_faces(gray_image):\n",
    "    face_cascade = cv2.CascadeClassifier('haarcascade_frontalface_default.xml')\n",
    "    return face_cascade.detectMultiScale(gray_image, scaleFactor=1.1, minNeighbors=5, minSize=(30, 30), flags=cv2.CASCADE_SCALE_IMAGE)\n",
    "\n",
    "def process_image(image_path):\n",
    "    image = load_image(image_path)\n",
    "    gray_image = convert_to_grayscale(image)\n",
    "    faces = detect_faces(gray_image)\n",
    "    return image, faces\n",
    "\n",
    "def crop_and_save_faces(image, faces, output_directory):\n",
    "    if not os.path.exists(output_directory):\n",
    "        os.makedirs(output_directory)\n",
    "\n",
    "    for i, (x, y, w, h) in enumerate(faces):\n",
    "        cropped_face = image[y:y+h, x:x+w]\n",
    "        output_path = os.path.join(output_directory, f\"face_{i}.jpg\")\n",
    "        cv2.imwrite(output_path, cropped_face)\n",
    "        print(f\"Cropped face saved to {output_path}\")\n",
    "\n",
    "image_paths = ['musk_full_body.jpg', 'musk_other_object.jpg', 'musk_with_other.jpg', 'musk_distant.jpg']\n",
    "for image_path in image_paths:\n",
    "    image, faces = process_image(image_path)\n",
    "    output_directory = os.path.splitext(image_path)[0] + \"_faces\"\n",
    "    crop_and_save_faces(image, faces, output_directory)\n",
    "\n"
   ]
  },
  {
   "attachments": {},
   "cell_type": "markdown",
   "metadata": {},
   "source": [
    "Now, detect the eyes, apply blurring, and save the images to disk."
   ]
  },
  {
   "cell_type": "code",
   "execution_count": 17,
   "metadata": {},
   "outputs": [
    {
     "name": "stdout",
     "output_type": "stream",
     "text": [
      "Cropped face saved to musk_full_body_faces\\face_0.jpg\n",
      "Face with blurred eyes saved to musk_full_body_faces\\blurred_face_0.jpg\n",
      "Cropped face saved to musk_other_object_faces\\face_0.jpg\n",
      "Face with blurred eyes saved to musk_other_object_faces\\blurred_face_0.jpg\n",
      "Cropped face saved to musk_with_other_faces\\face_0.jpg\n",
      "Cropped face saved to musk_with_other_faces\\face_1.jpg\n",
      "Cropped face saved to musk_with_other_faces\\face_2.jpg\n",
      "Cropped face saved to musk_with_other_faces\\face_3.jpg\n",
      "Face with blurred eyes saved to musk_with_other_faces\\blurred_face_0.jpg\n",
      "Face with blurred eyes saved to musk_with_other_faces\\blurred_face_1.jpg\n",
      "Face with blurred eyes saved to musk_with_other_faces\\blurred_face_2.jpg\n",
      "Face with blurred eyes saved to musk_with_other_faces\\blurred_face_3.jpg\n",
      "Cropped face saved to musk_distant_faces\\face_0.jpg\n",
      "Face with blurred eyes saved to musk_distant_faces\\blurred_face_0.jpg\n"
     ]
    }
   ],
   "source": [
    "import cv2\n",
    "import os\n",
    "\n",
    "def load_image(image_path):\n",
    "    return cv2.imread(image_path)\n",
    "\n",
    "def convert_to_grayscale(image):\n",
    "    return cv2.cvtColor(image, cv2.COLOR_BGR2GRAY)\n",
    "\n",
    "def detect_faces(gray_image):\n",
    "    face_cascade = cv2.CascadeClassifier('haarcascade_frontalface_default.xml')\n",
    "    return face_cascade.detectMultiScale(gray_image, scaleFactor=1.1, minNeighbors=5, minSize=(30, 30), flags=cv2.CASCADE_SCALE_IMAGE)\n",
    "\n",
    "def detect_eyes(gray_image):\n",
    "    eye_cascade = cv2.CascadeClassifier('haarcascade_eye.xml')\n",
    "    return eye_cascade.detectMultiScale(gray_image, scaleFactor=1.1, minNeighbors=3, minSize=(10, 10), flags=cv2.CASCADE_SCALE_IMAGE)\n",
    "\n",
    "def process_image(image_path):\n",
    "    image = load_image(image_path)\n",
    "    gray_image = convert_to_grayscale(image)\n",
    "    faces = detect_faces(gray_image)\n",
    "    return image, faces\n",
    "\n",
    "def crop_and_save_faces(image, faces, output_directory):\n",
    "    if not os.path.exists(output_directory):\n",
    "        os.makedirs(output_directory)\n",
    "\n",
    "    for i, (x, y, w, h) in enumerate(faces):\n",
    "        cropped_face = image[y:y+h, x:x+w]\n",
    "        output_path = os.path.join(output_directory, f\"face_{i}.jpg\")\n",
    "        cv2.imwrite(output_path, cropped_face)\n",
    "        print(f\"Cropped face saved to {output_path}\")\n",
    "\n",
    "def resize_image(image, new_width=200):\n",
    "    aspect_ratio = float(image.shape[1]) / float(image.shape[0])\n",
    "    new_height = int(new_width / aspect_ratio)\n",
    "    resized_image = cv2.resize(image, (new_width, new_height))\n",
    "    return resized_image\n",
    "\n",
    "def detect_eyes_and_blur_faces(image_path, output_path):\n",
    "    face = load_image(image_path)\n",
    "    resized_face = resize_image(face)\n",
    "    gray_face = convert_to_grayscale(resized_face)\n",
    "    eyes = detect_eyes(gray_face)\n",
    "\n",
    "    for (ex, ey, ew, eh) in eyes:\n",
    "        face_roi = resized_face[ey:ey+eh, ex:ex+ew]\n",
    "        blurred_roi = cv2.GaussianBlur(face_roi, (15, 15), 30)\n",
    "        resized_face[ey:ey+eh, ex:ex+ew] = blurred_roi\n",
    "\n",
    "    cv2.imwrite(output_path, resized_face)\n",
    "    print(f\"Face with blurred eyes saved to {output_path}\")\n",
    "\n",
    "image_paths = ['musk_full_body.jpg', 'musk_other_object.jpg', 'musk_with_other.jpg', 'musk_distant.jpg']\n",
    "for image_path in image_paths:\n",
    "    image, faces = process_image(image_path)\n",
    "    output_directory = os.path.splitext(image_path)[0] + \"_faces\"\n",
    "    crop_and_save_faces(image, faces, output_directory)\n",
    "\n",
    "    for i in range(len(faces)):\n",
    "        face_image_path = os.path.join(output_directory, f\"face_{i}.jpg\")\n",
    "        blurred_output_path = os.path.join(output_directory, f\"blurred_face_{i}.jpg\")\n",
    "        detect_eyes_and_blur_faces(face_image_path, blurred_output_path)\n",
    "\n"
   ]
  }
 ],
 "metadata": {
  "kernelspec": {
   "display_name": "tf",
   "language": "python",
   "name": "python3"
  },
  "language_info": {
   "codemirror_mode": {
    "name": "ipython",
    "version": 3
   },
   "file_extension": ".py",
   "mimetype": "text/x-python",
   "name": "python",
   "nbconvert_exporter": "python",
   "pygments_lexer": "ipython3",
   "version": "3.9.13"
  },
  "orig_nbformat": 4
 },
 "nbformat": 4,
 "nbformat_minor": 2
}
